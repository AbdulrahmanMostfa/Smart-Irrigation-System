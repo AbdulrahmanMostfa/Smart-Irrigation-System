{
 "cells": [
  {
   "cell_type": "code",
   "execution_count": 150,
   "metadata": {},
   "outputs": [],
   "source": [
    "# import lib\n",
    "import pandas as pd \n",
    "import numpy as np\n",
    "import seaborn as sns \n",
    "import matplotlib.pyplot as plt\n",
    "import warnings\n",
    "warnings.filterwarnings('ignore')\n",
    "#import sweetviz as sv\n",
    "#import missingno as msno\n",
    "from sklearn import metrics\n",
    "from sklearn.utils import shuffle"
   ]
  },
  {
   "cell_type": "code",
   "execution_count": 151,
   "metadata": {},
   "outputs": [
    {
     "data": {
      "text/html": [
       "<div>\n",
       "<style scoped>\n",
       "    .dataframe tbody tr th:only-of-type {\n",
       "        vertical-align: middle;\n",
       "    }\n",
       "\n",
       "    .dataframe tbody tr th {\n",
       "        vertical-align: top;\n",
       "    }\n",
       "\n",
       "    .dataframe thead th {\n",
       "        text-align: right;\n",
       "    }\n",
       "</style>\n",
       "<table border=\"1\" class=\"dataframe\">\n",
       "  <thead>\n",
       "    <tr style=\"text-align: right;\">\n",
       "      <th></th>\n",
       "      <th>crop</th>\n",
       "      <th>moisture</th>\n",
       "      <th>temp</th>\n",
       "      <th>pump</th>\n",
       "    </tr>\n",
       "  </thead>\n",
       "  <tbody>\n",
       "    <tr>\n",
       "      <th>0</th>\n",
       "      <td>cotton</td>\n",
       "      <td>638</td>\n",
       "      <td>16</td>\n",
       "      <td>1</td>\n",
       "    </tr>\n",
       "    <tr>\n",
       "      <th>1</th>\n",
       "      <td>cotton</td>\n",
       "      <td>522</td>\n",
       "      <td>18</td>\n",
       "      <td>1</td>\n",
       "    </tr>\n",
       "    <tr>\n",
       "      <th>2</th>\n",
       "      <td>cotton</td>\n",
       "      <td>741</td>\n",
       "      <td>22</td>\n",
       "      <td>1</td>\n",
       "    </tr>\n",
       "    <tr>\n",
       "      <th>3</th>\n",
       "      <td>cotton</td>\n",
       "      <td>798</td>\n",
       "      <td>32</td>\n",
       "      <td>1</td>\n",
       "    </tr>\n",
       "    <tr>\n",
       "      <th>4</th>\n",
       "      <td>cotton</td>\n",
       "      <td>690</td>\n",
       "      <td>28</td>\n",
       "      <td>1</td>\n",
       "    </tr>\n",
       "  </tbody>\n",
       "</table>\n",
       "</div>"
      ],
      "text/plain": [
       "     crop  moisture  temp  pump\n",
       "0  cotton       638    16     1\n",
       "1  cotton       522    18     1\n",
       "2  cotton       741    22     1\n",
       "3  cotton       798    32     1\n",
       "4  cotton       690    28     1"
      ]
     },
     "execution_count": 151,
     "metadata": {},
     "output_type": "execute_result"
    }
   ],
   "source": [
    "# reading dataset \n",
    "df = pd.read_csv('data.csv')\n",
    "# Reading first five rows of our dataset \n",
    "df.head()"
   ]
  },
  {
   "cell_type": "code",
   "execution_count": 152,
   "metadata": {},
   "outputs": [],
   "source": [
    "df = df.sample(frac = 1)"
   ]
  },
  {
   "cell_type": "code",
   "execution_count": 153,
   "metadata": {},
   "outputs": [],
   "source": [
    "#print(\"\\nShuffled DataFrame:\")\n",
    "#print(df)"
   ]
  },
  {
   "cell_type": "code",
   "execution_count": 154,
   "metadata": {},
   "outputs": [
    {
     "name": "stdout",
     "output_type": "stream",
     "text": [
      "<class 'pandas.core.frame.DataFrame'>\n",
      "Int64Index: 200 entries, 14 to 140\n",
      "Data columns (total 4 columns):\n",
      " #   Column    Non-Null Count  Dtype \n",
      "---  ------    --------------  ----- \n",
      " 0   crop      200 non-null    object\n",
      " 1   moisture  200 non-null    int64 \n",
      " 2   temp      200 non-null    int64 \n",
      " 3   pump      200 non-null    int64 \n",
      "dtypes: int64(3), object(1)\n",
      "memory usage: 7.8+ KB\n"
     ]
    }
   ],
   "source": [
    "df.info()"
   ]
  },
  {
   "cell_type": "code",
   "execution_count": 155,
   "metadata": {},
   "outputs": [
    {
     "data": {
      "text/plain": [
       "(200, 4)"
      ]
     },
     "execution_count": 155,
     "metadata": {},
     "output_type": "execute_result"
    }
   ],
   "source": [
    "df.shape"
   ]
  },
  {
   "cell_type": "code",
   "execution_count": 156,
   "metadata": {},
   "outputs": [
    {
     "data": {
      "text/plain": [
       "crop        0\n",
       "moisture    0\n",
       "temp        0\n",
       "pump        0\n",
       "dtype: int64"
      ]
     },
     "execution_count": 156,
     "metadata": {},
     "output_type": "execute_result"
    }
   ],
   "source": [
    "df.isnull().sum()"
   ]
  },
  {
   "cell_type": "code",
   "execution_count": 157,
   "metadata": {},
   "outputs": [
    {
     "data": {
      "text/html": [
       "<div>\n",
       "<style scoped>\n",
       "    .dataframe tbody tr th:only-of-type {\n",
       "        vertical-align: middle;\n",
       "    }\n",
       "\n",
       "    .dataframe tbody tr th {\n",
       "        vertical-align: top;\n",
       "    }\n",
       "\n",
       "    .dataframe thead th {\n",
       "        text-align: right;\n",
       "    }\n",
       "</style>\n",
       "<table border=\"1\" class=\"dataframe\">\n",
       "  <thead>\n",
       "    <tr style=\"text-align: right;\">\n",
       "      <th></th>\n",
       "      <th>moisture</th>\n",
       "      <th>temp</th>\n",
       "      <th>pump</th>\n",
       "    </tr>\n",
       "  </thead>\n",
       "  <tbody>\n",
       "    <tr>\n",
       "      <th>count</th>\n",
       "      <td>200.000000</td>\n",
       "      <td>200.000000</td>\n",
       "      <td>200.000000</td>\n",
       "    </tr>\n",
       "    <tr>\n",
       "      <th>mean</th>\n",
       "      <td>633.085000</td>\n",
       "      <td>27.750000</td>\n",
       "      <td>0.750000</td>\n",
       "    </tr>\n",
       "    <tr>\n",
       "      <th>std</th>\n",
       "      <td>279.077118</td>\n",
       "      <td>10.869602</td>\n",
       "      <td>0.434099</td>\n",
       "    </tr>\n",
       "    <tr>\n",
       "      <th>min</th>\n",
       "      <td>4.000000</td>\n",
       "      <td>10.000000</td>\n",
       "      <td>0.000000</td>\n",
       "    </tr>\n",
       "    <tr>\n",
       "      <th>25%</th>\n",
       "      <td>500.500000</td>\n",
       "      <td>18.000000</td>\n",
       "      <td>0.750000</td>\n",
       "    </tr>\n",
       "    <tr>\n",
       "      <th>50%</th>\n",
       "      <td>693.500000</td>\n",
       "      <td>28.000000</td>\n",
       "      <td>1.000000</td>\n",
       "    </tr>\n",
       "    <tr>\n",
       "      <th>75%</th>\n",
       "      <td>850.750000</td>\n",
       "      <td>38.000000</td>\n",
       "      <td>1.000000</td>\n",
       "    </tr>\n",
       "    <tr>\n",
       "      <th>max</th>\n",
       "      <td>1022.000000</td>\n",
       "      <td>45.000000</td>\n",
       "      <td>1.000000</td>\n",
       "    </tr>\n",
       "  </tbody>\n",
       "</table>\n",
       "</div>"
      ],
      "text/plain": [
       "          moisture        temp        pump\n",
       "count   200.000000  200.000000  200.000000\n",
       "mean    633.085000   27.750000    0.750000\n",
       "std     279.077118   10.869602    0.434099\n",
       "min       4.000000   10.000000    0.000000\n",
       "25%     500.500000   18.000000    0.750000\n",
       "50%     693.500000   28.000000    1.000000\n",
       "75%     850.750000   38.000000    1.000000\n",
       "max    1022.000000   45.000000    1.000000"
      ]
     },
     "execution_count": 157,
     "metadata": {},
     "output_type": "execute_result"
    }
   ],
   "source": [
    "df.describe()"
   ]
  },
  {
   "cell_type": "code",
   "execution_count": 158,
   "metadata": {},
   "outputs": [],
   "source": [
    "#df[\"pump\"]=df[\"pump\"].replace({'No': 0, 'Yes': 1})\n",
    "#df"
   ]
  },
  {
   "cell_type": "code",
   "execution_count": 159,
   "metadata": {},
   "outputs": [],
   "source": [
    "# checking values are converted in 0 and 1 or not \n",
    "#print(df.pump)"
   ]
  },
  {
   "cell_type": "code",
   "execution_count": 160,
   "metadata": {},
   "outputs": [
    {
     "name": "stdout",
     "output_type": "stream",
     "text": [
      "Examples:\n",
      "    Total: 200\n",
      "    True: 50\n",
      "    False 150\n"
     ]
    }
   ],
   "source": [
    "f, t = np.bincount(df['pump'])\n",
    "total = f + t\n",
    "print('Examples:\\n    Total: {}\\n    True: {}\\n    False {}'.format(total, f, t))"
   ]
  },
  {
   "cell_type": "code",
   "execution_count": 161,
   "metadata": {},
   "outputs": [
    {
     "name": "stdout",
     "output_type": "stream",
     "text": [
      "Numerical Features Count 3\n",
      "Discrete feature Count 1\n",
      "Continuous feature Count 2\n"
     ]
    }
   ],
   "source": [
    "numerical_feature = [feature for feature in df.columns if df[feature].dtypes != 'O']\n",
    "print(\"Numerical Features Count {}\".format(len(numerical_feature)))\n",
    "\n",
    "discrete_feature=[feature for feature in numerical_feature if len(df[feature].unique())<25]\n",
    "continuous_feature = [feature for feature in numerical_feature if feature not in discrete_feature]\n",
    "print(\"Discrete feature Count {}\".format(len(discrete_feature)))\n",
    "print(\"Continuous feature Count {}\".format(len(continuous_feature)))"
   ]
  },
  {
   "cell_type": "code",
   "execution_count": 162,
   "metadata": {},
   "outputs": [
    {
     "data": {
      "image/png": "[encoded data removed]",
      "text/plain": [
       "<Figure size 432x288 with 1 Axes>"
      ]
     },
     "metadata": {
      "needs_background": "light"
     },
     "output_type": "display_data"
    },
    {
     "data": {
      "text/plain": [
       "<Figure size 1080x1080 with 0 Axes>"
      ]
     },
     "metadata": {},
     "output_type": "display_data"
    },
    {
     "data": {
      "image/png": "[encoded data removed]",
      "text/plain": [
       "<Figure size 432x288 with 1 Axes>"
      ]
     },
     "metadata": {
      "needs_background": "light"
     },
     "output_type": "display_data"
    },
    {
     "data": {
      "text/plain": [
       "<Figure size 1080x1080 with 0 Axes>"
      ]
     },
     "metadata": {},
     "output_type": "display_data"
    }
   ],
   "source": [
    "# visualize \n",
    "for feature in continuous_feature:\n",
    "    data=df.copy()\n",
    "    sns.distplot(df[feature])\n",
    "    plt.xlabel(feature)\n",
    "    plt.ylabel(\"Count\")\n",
    "    plt.title(feature)\n",
    "    plt.figure(figsize=(15,15))\n",
    "    plt.show()"
   ]
  },
  {
   "cell_type": "code",
   "execution_count": 163,
   "metadata": {},
   "outputs": [
    {
     "data": {
      "image/png": "[encoded data removed]",
      "text/plain": [
       "<Figure size 1440x1440 with 2 Axes>"
      ]
     },
     "metadata": {
      "needs_background": "light"
     },
     "output_type": "display_data"
    }
   ],
   "source": [
    "corrmat = df.corr(method = \"spearman\")\n",
    "plt.figure(figsize=(20,20))\n",
    "#plot heat map\n",
    "g=sns.heatmap(corrmat,annot=True)"
   ]
  },
  {
   "cell_type": "code",
   "execution_count": 164,
   "metadata": {},
   "outputs": [],
   "source": [
    "X = df.drop([\"pump\",\"crop\"], axis=1)\n",
    "Y = df[\"pump\"]"
   ]
  },
  {
   "cell_type": "code",
   "execution_count": 165,
   "metadata": {},
   "outputs": [],
   "source": [
    "# Spliting data into training and testing \n",
    "from sklearn.model_selection import train_test_split\n",
    "X_train, X_test, y_train, y_test = train_test_split(X,Y, test_size =0.2, random_state = 42, shuffle=True)"
   ]
  },
  {
   "cell_type": "code",
   "execution_count": 166,
   "metadata": {},
   "outputs": [],
   "source": [
    "from sklearn.metrics import confusion_matrix, classification_report\n",
    "from sklearn.metrics import accuracy_score, f1_score\n",
    "from sklearn import metrics\n",
    "from sklearn.linear_model import LogisticRegression\n",
    "model = LogisticRegression()"
   ]
  },
  {
   "cell_type": "code",
   "execution_count": 167,
   "metadata": {},
   "outputs": [
    {
     "data": {
      "text/plain": [
       "LogisticRegression()"
      ]
     },
     "execution_count": 167,
     "metadata": {},
     "output_type": "execute_result"
    }
   ],
   "source": [
    "model.fit(X_train, y_train) # training step "
   ]
  },
  {
   "cell_type": "code",
   "execution_count": 168,
   "metadata": {},
   "outputs": [],
   "source": [
    "y_pred = model.predict(X_test)"
   ]
  },
  {
   "cell_type": "code",
   "execution_count": 169,
   "metadata": {},
   "outputs": [
    {
     "name": "stdout",
     "output_type": "stream",
     "text": [
      "[1 1 1 0 1 1 1 1 1 1 1 0 1 1 1 1 1 0 1 0 1 0 0 1 1 1 1 1 1 1 1 1 1 1 1 1 0\n",
      " 1 1 1]\n"
     ]
    }
   ],
   "source": [
    "print(y_pred)"
   ]
  },
  {
   "cell_type": "code",
   "execution_count": 170,
   "metadata": {},
   "outputs": [
    {
     "name": "stdout",
     "output_type": "stream",
     "text": [
      "1.0\n",
      "[[ 7  0]\n",
      " [ 0 33]]\n",
      "              precision    recall  f1-score   support\n",
      "\n",
      "           0       1.00      1.00      1.00         7\n",
      "           1       1.00      1.00      1.00        33\n",
      "\n",
      "    accuracy                           1.00        40\n",
      "   macro avg       1.00      1.00      1.00        40\n",
      "weighted avg       1.00      1.00      1.00        40\n",
      "\n"
     ]
    }
   ],
   "source": [
    "##print(accuracy_score(y_test,y_pred))\n",
    "print(confusion_matrix(y_test,y_pred))\n",
    "print(classification_report(y_test,y_pred))"
   ]
  },
  {
   "cell_type": "code",
   "execution_count": 171,
   "metadata": {},
   "outputs": [
    {
     "data": {
      "text/html": [
       "<div>\n",
       "<style scoped>\n",
       "    .dataframe tbody tr th:only-of-type {\n",
       "        vertical-align: middle;\n",
       "    }\n",
       "\n",
       "    .dataframe tbody tr th {\n",
       "        vertical-align: top;\n",
       "    }\n",
       "\n",
       "    .dataframe thead th {\n",
       "        text-align: right;\n",
       "    }\n",
       "</style>\n",
       "<table border=\"1\" class=\"dataframe\">\n",
       "  <thead>\n",
       "    <tr style=\"text-align: right;\">\n",
       "      <th></th>\n",
       "      <th>moisture</th>\n",
       "      <th>temp</th>\n",
       "    </tr>\n",
       "  </thead>\n",
       "  <tbody>\n",
       "    <tr>\n",
       "      <th>14</th>\n",
       "      <td>703</td>\n",
       "      <td>45</td>\n",
       "    </tr>\n",
       "    <tr>\n",
       "      <th>175</th>\n",
       "      <td>1010</td>\n",
       "      <td>10</td>\n",
       "    </tr>\n",
       "    <tr>\n",
       "      <th>36</th>\n",
       "      <td>665</td>\n",
       "      <td>32</td>\n",
       "    </tr>\n",
       "    <tr>\n",
       "      <th>4</th>\n",
       "      <td>690</td>\n",
       "      <td>28</td>\n",
       "    </tr>\n",
       "    <tr>\n",
       "      <th>182</th>\n",
       "      <td>878</td>\n",
       "      <td>29</td>\n",
       "    </tr>\n",
       "    <tr>\n",
       "      <th>...</th>\n",
       "      <td>...</td>\n",
       "      <td>...</td>\n",
       "    </tr>\n",
       "    <tr>\n",
       "      <th>190</th>\n",
       "      <td>1021</td>\n",
       "      <td>22</td>\n",
       "    </tr>\n",
       "    <tr>\n",
       "      <th>135</th>\n",
       "      <td>302</td>\n",
       "      <td>23</td>\n",
       "    </tr>\n",
       "    <tr>\n",
       "      <th>61</th>\n",
       "      <td>729</td>\n",
       "      <td>41</td>\n",
       "    </tr>\n",
       "    <tr>\n",
       "      <th>138</th>\n",
       "      <td>4</td>\n",
       "      <td>42</td>\n",
       "    </tr>\n",
       "    <tr>\n",
       "      <th>140</th>\n",
       "      <td>36</td>\n",
       "      <td>16</td>\n",
       "    </tr>\n",
       "  </tbody>\n",
       "</table>\n",
       "<p>200 rows × 2 columns</p>\n",
       "</div>"
      ],
      "text/plain": [
       "     moisture  temp\n",
       "14        703    45\n",
       "175      1010    10\n",
       "36        665    32\n",
       "4         690    28\n",
       "182       878    29\n",
       "..        ...   ...\n",
       "190      1021    22\n",
       "135       302    23\n",
       "61        729    41\n",
       "138         4    42\n",
       "140        36    16\n",
       "\n",
       "[200 rows x 2 columns]"
      ]
     },
     "execution_count": 171,
     "metadata": {},
     "output_type": "execute_result"
    }
   ],
   "source": [
    "X"
   ]
  },
  {
   "cell_type": "code",
   "execution_count": 172,
   "metadata": {},
   "outputs": [
    {
     "name": "stdout",
     "output_type": "stream",
     "text": [
      "Model: \"sequential_4\"\n",
      "_________________________________________________________________\n",
      "Layer (type)                 Output Shape              Param #   \n",
      "=================================================================\n",
      "dense_12 (Dense)             (None, 216)               648       \n",
      "_________________________________________________________________\n",
      "dense_13 (Dense)             (None, 32)                6944      \n",
      "_________________________________________________________________\n",
      "dense_14 (Dense)             (None, 1)                 33        \n",
      "=================================================================\n",
      "Total params: 7,625\n",
      "Trainable params: 7,625\n",
      "Non-trainable params: 0\n",
      "_________________________________________________________________\n"
     ]
    }
   ],
   "source": [
    "# Define simple neural network model\n",
    "# Keras\n",
    "\n",
    "from keras.models import Sequential\n",
    "from keras.layers import Dense\n",
    "from tensorflow.keras.optimizers import Adam,RMSprop\n",
    "import tensorflow as tf\n",
    "\n",
    "model = Sequential()\n",
    "model.add(Dense(216, input_dim=2, activation='relu'))\n",
    "model.add(Dense(32, activation='relu'))\n",
    "model.add(Dense(1, activation='sigmoid'))\n",
    "\n",
    "\n",
    "model.summary()"
   ]
  },
  {
   "cell_type": "code",
   "execution_count": 173,
   "metadata": {},
   "outputs": [],
   "source": [
    "callback = tf.keras.callbacks.ModelCheckpoint(filepath='best_model.h5',monitor='val_acc', mode='max',verbose=1)\n",
    "es = tf.keras.callbacks.EarlyStopping(monitor='loss', patience=10)\n"
   ]
  },
  {
   "cell_type": "code",
   "execution_count": 174,
   "metadata": {},
   "outputs": [
    {
     "name": "stdout",
     "output_type": "stream",
     "text": [
      "Epoch 1/100\n",
      "5/5 [==============================] - 1s 54ms/step - loss: 27.0876 - accuracy: 0.4250 - val_loss: 3.0664 - val_accuracy: 0.8250\n",
      "\n",
      "Epoch 00001: saving model to best_model.h5\n",
      "Epoch 2/100\n",
      "5/5 [==============================] - 0s 18ms/step - loss: 5.9322 - accuracy: 0.7312 - val_loss: 4.2631 - val_accuracy: 0.8250\n",
      "\n",
      "Epoch 00002: saving model to best_model.h5\n",
      "Epoch 3/100\n",
      "5/5 [==============================] - 0s 12ms/step - loss: 6.3706 - accuracy: 0.7375 - val_loss: 3.4817 - val_accuracy: 0.8250\n",
      "\n",
      "Epoch 00003: saving model to best_model.h5\n",
      "Epoch 4/100\n",
      "5/5 [==============================] - 0s 13ms/step - loss: 4.3066 - accuracy: 0.7375 - val_loss: 1.6112 - val_accuracy: 0.8250\n",
      "\n",
      "Epoch 00004: saving model to best_model.h5\n",
      "Epoch 5/100\n",
      "5/5 [==============================] - 0s 9ms/step - loss: 1.9333 - accuracy: 0.6938 - val_loss: 2.8215 - val_accuracy: 0.1750\n",
      "\n",
      "Epoch 00005: saving model to best_model.h5\n",
      "Epoch 6/100\n",
      "5/5 [==============================] - 0s 15ms/step - loss: 1.6661 - accuracy: 0.6562 - val_loss: 1.2233 - val_accuracy: 0.8250\n",
      "\n",
      "Epoch 00006: saving model to best_model.h5\n",
      "Epoch 7/100\n",
      "5/5 [==============================] - 0s 11ms/step - loss: 2.5340 - accuracy: 0.7625 - val_loss: 1.2808 - val_accuracy: 0.8250\n",
      "\n",
      "Epoch 00007: saving model to best_model.h5\n",
      "Epoch 8/100\n",
      "5/5 [==============================] - 0s 12ms/step - loss: 1.9322 - accuracy: 0.7750 - val_loss: 0.3054 - val_accuracy: 0.8750\n",
      "\n",
      "Epoch 00008: saving model to best_model.h5\n",
      "Epoch 9/100\n",
      "5/5 [==============================] - 0s 10ms/step - loss: 0.6963 - accuracy: 0.7812 - val_loss: 0.2850 - val_accuracy: 0.8500\n",
      "\n",
      "Epoch 00009: saving model to best_model.h5\n",
      "Epoch 10/100\n",
      "5/5 [==============================] - 0s 12ms/step - loss: 0.5651 - accuracy: 0.8625 - val_loss: 0.1960 - val_accuracy: 0.9500\n",
      "\n",
      "Epoch 00010: saving model to best_model.h5\n",
      "Epoch 11/100\n",
      "5/5 [==============================] - 0s 11ms/step - loss: 0.7770 - accuracy: 0.8687 - val_loss: 0.0677 - val_accuracy: 0.9750\n",
      "\n",
      "Epoch 00011: saving model to best_model.h5\n",
      "Epoch 12/100\n",
      "5/5 [==============================] - 0s 17ms/step - loss: 0.5092 - accuracy: 0.8125 - val_loss: 0.0309 - val_accuracy: 1.0000\n",
      "\n",
      "Epoch 00012: saving model to best_model.h5\n",
      "Epoch 13/100\n",
      "5/5 [==============================] - 0s 16ms/step - loss: 0.3144 - accuracy: 0.8813 - val_loss: 0.0365 - val_accuracy: 0.9750\n",
      "\n",
      "Epoch 00013: saving model to best_model.h5\n",
      "Epoch 14/100\n",
      "5/5 [==============================] - 0s 10ms/step - loss: 0.2938 - accuracy: 0.8938 - val_loss: 0.1429 - val_accuracy: 0.9500\n",
      "\n",
      "Epoch 00014: saving model to best_model.h5\n",
      "Epoch 15/100\n",
      "5/5 [==============================] - 0s 10ms/step - loss: 0.3256 - accuracy: 0.8687 - val_loss: 0.0266 - val_accuracy: 0.9750\n",
      "\n",
      "Epoch 00015: saving model to best_model.h5\n",
      "Epoch 16/100\n",
      "5/5 [==============================] - 0s 11ms/step - loss: 0.2834 - accuracy: 0.8875 - val_loss: 0.0746 - val_accuracy: 0.9750\n",
      "\n",
      "Epoch 00016: saving model to best_model.h5\n",
      "Epoch 17/100\n",
      "5/5 [==============================] - 0s 11ms/step - loss: 0.2517 - accuracy: 0.9000 - val_loss: 0.0285 - val_accuracy: 0.9750\n",
      "\n",
      "Epoch 00017: saving model to best_model.h5\n",
      "Epoch 18/100\n",
      "5/5 [==============================] - 0s 11ms/step - loss: 0.2828 - accuracy: 0.9000 - val_loss: 0.0301 - val_accuracy: 1.0000\n",
      "\n",
      "Epoch 00018: saving model to best_model.h5\n",
      "Epoch 19/100\n",
      "5/5 [==============================] - 0s 13ms/step - loss: 0.2820 - accuracy: 0.8625 - val_loss: 0.0313 - val_accuracy: 1.0000\n",
      "\n",
      "Epoch 00019: saving model to best_model.h5\n",
      "Epoch 20/100\n",
      "5/5 [==============================] - 0s 14ms/step - loss: 0.2792 - accuracy: 0.8750 - val_loss: 0.0314 - val_accuracy: 1.0000\n",
      "\n",
      "Epoch 00020: saving model to best_model.h5\n",
      "Epoch 21/100\n",
      "5/5 [==============================] - 0s 23ms/step - loss: 0.2508 - accuracy: 0.9000 - val_loss: 0.0387 - val_accuracy: 1.0000\n",
      "\n",
      "Epoch 00021: saving model to best_model.h5\n",
      "Epoch 22/100\n",
      "5/5 [==============================] - 0s 10ms/step - loss: 0.2315 - accuracy: 0.8875 - val_loss: 0.0364 - val_accuracy: 1.0000\n",
      "\n",
      "Epoch 00022: saving model to best_model.h5\n",
      "Epoch 23/100\n",
      "5/5 [==============================] - 0s 12ms/step - loss: 0.2331 - accuracy: 0.8938 - val_loss: 0.0407 - val_accuracy: 1.0000\n",
      "\n",
      "Epoch 00023: saving model to best_model.h5\n",
      "Epoch 24/100\n",
      "5/5 [==============================] - 0s 12ms/step - loss: 0.2564 - accuracy: 0.8938 - val_loss: 0.0695 - val_accuracy: 1.0000\n",
      "\n",
      "Epoch 00024: saving model to best_model.h5\n",
      "Epoch 25/100\n",
      "5/5 [==============================] - 0s 14ms/step - loss: 0.2441 - accuracy: 0.8875 - val_loss: 0.0443 - val_accuracy: 1.0000\n",
      "\n",
      "Epoch 00025: saving model to best_model.h5\n",
      "Epoch 26/100\n",
      "5/5 [==============================] - 0s 11ms/step - loss: 0.2316 - accuracy: 0.9000 - val_loss: 0.0367 - val_accuracy: 0.9750\n",
      "\n",
      "Epoch 00026: saving model to best_model.h5\n",
      "Epoch 27/100\n",
      "5/5 [==============================] - 0s 10ms/step - loss: 0.2382 - accuracy: 0.8938 - val_loss: 0.0417 - val_accuracy: 1.0000\n",
      "\n",
      "Epoch 00027: saving model to best_model.h5\n",
      "Epoch 28/100\n",
      "5/5 [==============================] - 0s 10ms/step - loss: 0.2251 - accuracy: 0.8813 - val_loss: 0.0649 - val_accuracy: 1.0000\n",
      "\n",
      "Epoch 00028: saving model to best_model.h5\n",
      "Epoch 29/100\n",
      "5/5 [==============================] - 0s 12ms/step - loss: 0.2362 - accuracy: 0.8813 - val_loss: 0.0414 - val_accuracy: 0.9750\n",
      "\n",
      "Epoch 00029: saving model to best_model.h5\n",
      "Epoch 30/100\n",
      "5/5 [==============================] - 0s 13ms/step - loss: 0.2239 - accuracy: 0.8938 - val_loss: 0.0533 - val_accuracy: 1.0000\n",
      "\n",
      "Epoch 00030: saving model to best_model.h5\n",
      "Epoch 31/100\n",
      "5/5 [==============================] - 0s 17ms/step - loss: 0.2196 - accuracy: 0.9000 - val_loss: 0.0564 - val_accuracy: 1.0000\n",
      "\n",
      "Epoch 00031: saving model to best_model.h5\n",
      "Epoch 32/100\n",
      "5/5 [==============================] - 0s 11ms/step - loss: 0.2160 - accuracy: 0.9000 - val_loss: 0.0497 - val_accuracy: 1.0000\n",
      "\n",
      "Epoch 00032: saving model to best_model.h5\n",
      "Epoch 33/100\n",
      "5/5 [==============================] - 0s 9ms/step - loss: 0.2398 - accuracy: 0.8938 - val_loss: 0.0551 - val_accuracy: 1.0000\n",
      "\n",
      "Epoch 00033: saving model to best_model.h5\n",
      "Epoch 34/100\n",
      "5/5 [==============================] - 0s 8ms/step - loss: 0.2133 - accuracy: 0.9062 - val_loss: 0.0595 - val_accuracy: 1.0000\n",
      "\n",
      "Epoch 00034: saving model to best_model.h5\n",
      "Epoch 35/100\n",
      "5/5 [==============================] - 0s 8ms/step - loss: 0.2100 - accuracy: 0.9000 - val_loss: 0.0492 - val_accuracy: 0.9750\n",
      "\n",
      "Epoch 00035: saving model to best_model.h5\n",
      "Epoch 36/100\n",
      "5/5 [==============================] - 0s 8ms/step - loss: 0.2094 - accuracy: 0.9000 - val_loss: 0.0558 - val_accuracy: 1.0000\n",
      "\n",
      "Epoch 00036: saving model to best_model.h5\n",
      "Epoch 37/100\n",
      "5/5 [==============================] - 0s 18ms/step - loss: 0.2397 - accuracy: 0.9187 - val_loss: 0.0796 - val_accuracy: 1.0000\n",
      "\n",
      "Epoch 00037: saving model to best_model.h5\n",
      "Epoch 38/100\n",
      "5/5 [==============================] - 0s 10ms/step - loss: 0.2591 - accuracy: 0.8938 - val_loss: 0.0624 - val_accuracy: 1.0000\n",
      "\n",
      "Epoch 00038: saving model to best_model.h5\n",
      "Epoch 39/100\n",
      "5/5 [==============================] - 0s 10ms/step - loss: 0.2699 - accuracy: 0.8750 - val_loss: 0.0428 - val_accuracy: 0.9750\n",
      "\n",
      "Epoch 00039: saving model to best_model.h5\n",
      "Epoch 40/100\n",
      "5/5 [==============================] - 0s 8ms/step - loss: 0.2378 - accuracy: 0.8938 - val_loss: 0.0541 - val_accuracy: 1.0000\n",
      "\n",
      "Epoch 00040: saving model to best_model.h5\n",
      "Epoch 41/100\n",
      "5/5 [==============================] - 0s 13ms/step - loss: 0.2125 - accuracy: 0.9062 - val_loss: 0.0435 - val_accuracy: 0.9750\n",
      "\n",
      "Epoch 00041: saving model to best_model.h5\n",
      "Epoch 42/100\n",
      "5/5 [==============================] - 0s 13ms/step - loss: 0.2130 - accuracy: 0.9125 - val_loss: 0.0649 - val_accuracy: 1.0000\n",
      "\n",
      "Epoch 00042: saving model to best_model.h5\n",
      "Epoch 43/100\n",
      "5/5 [==============================] - 0s 15ms/step - loss: 0.2353 - accuracy: 0.9125 - val_loss: 0.1219 - val_accuracy: 1.0000\n",
      "\n",
      "Epoch 00043: saving model to best_model.h5\n",
      "Epoch 44/100\n",
      "5/5 [==============================] - 0s 12ms/step - loss: 0.2414 - accuracy: 0.8875 - val_loss: 0.0469 - val_accuracy: 0.9750\n",
      "\n",
      "Epoch 00044: saving model to best_model.h5\n",
      "Epoch 45/100\n"
     ]
    },
    {
     "name": "stdout",
     "output_type": "stream",
     "text": [
      "5/5 [==============================] - 0s 16ms/step - loss: 0.2042 - accuracy: 0.9062 - val_loss: 0.0998 - val_accuracy: 1.0000\n",
      "\n",
      "Epoch 00045: saving model to best_model.h5\n",
      "Epoch 46/100\n",
      "5/5 [==============================] - 0s 13ms/step - loss: 0.2221 - accuracy: 0.9062 - val_loss: 0.0601 - val_accuracy: 1.0000\n",
      "\n",
      "Epoch 00046: saving model to best_model.h5\n",
      "Epoch 47/100\n",
      "5/5 [==============================] - 0s 9ms/step - loss: 0.2100 - accuracy: 0.9000 - val_loss: 0.0585 - val_accuracy: 1.0000\n",
      "\n",
      "Epoch 00047: saving model to best_model.h5\n",
      "Epoch 48/100\n",
      "5/5 [==============================] - 0s 10ms/step - loss: 0.2235 - accuracy: 0.9000 - val_loss: 0.0448 - val_accuracy: 0.9750\n",
      "\n",
      "Epoch 00048: saving model to best_model.h5\n",
      "Epoch 49/100\n",
      "5/5 [==============================] - 0s 19ms/step - loss: 0.2089 - accuracy: 0.9187 - val_loss: 0.0629 - val_accuracy: 1.0000\n",
      "\n",
      "Epoch 00049: saving model to best_model.h5\n",
      "Epoch 50/100\n",
      "5/5 [==============================] - 0s 10ms/step - loss: 0.2279 - accuracy: 0.9062 - val_loss: 0.0766 - val_accuracy: 0.9750\n",
      "\n",
      "Epoch 00050: saving model to best_model.h5\n",
      "Epoch 51/100\n",
      "5/5 [==============================] - 0s 8ms/step - loss: 0.3466 - accuracy: 0.8750 - val_loss: 0.1823 - val_accuracy: 0.9750\n",
      "\n",
      "Epoch 00051: saving model to best_model.h5\n",
      "Epoch 52/100\n",
      "5/5 [==============================] - 0s 11ms/step - loss: 0.2066 - accuracy: 0.9250 - val_loss: 0.0333 - val_accuracy: 0.9750\n",
      "\n",
      "Epoch 00052: saving model to best_model.h5\n",
      "Epoch 53/100\n",
      "5/5 [==============================] - 0s 13ms/step - loss: 0.2197 - accuracy: 0.9125 - val_loss: 0.0602 - val_accuracy: 1.0000\n",
      "\n",
      "Epoch 00053: saving model to best_model.h5\n",
      "Epoch 54/100\n",
      "5/5 [==============================] - 0s 10ms/step - loss: 0.2253 - accuracy: 0.9000 - val_loss: 0.0679 - val_accuracy: 1.0000\n",
      "\n",
      "Epoch 00054: saving model to best_model.h5\n",
      "Epoch 55/100\n",
      "5/5 [==============================] - 0s 9ms/step - loss: 0.2542 - accuracy: 0.8750 - val_loss: 0.0473 - val_accuracy: 0.9750\n",
      "\n",
      "Epoch 00055: saving model to best_model.h5\n"
     ]
    }
   ],
   "source": [
    "# Compile the Neural network\n",
    "model.compile(loss='binary_crossentropy', optimizer='adam', metrics=['accuracy'])\n",
    "# Fit to training data\n",
    "#history = model.fit(X_train, y_train, epochs=100,validation_split=0.2, callbacks=[callback , es])\n",
    "history = model.fit(X_train, y_train, epochs=100, validation_data=(X_test,y_test), callbacks=[callback , es])"
   ]
  },
  {
   "cell_type": "code",
   "execution_count": 175,
   "metadata": {},
   "outputs": [
    {
     "name": "stdout",
     "output_type": "stream",
     "text": [
      "2/2 - 0s - loss: 0.0473 - accuracy: 0.9750\n"
     ]
    }
   ],
   "source": [
    "loss, acc = model.evaluate(X_test, y_test, verbose=2)"
   ]
  },
  {
   "cell_type": "code",
   "execution_count": 176,
   "metadata": {},
   "outputs": [
    {
     "name": "stdout",
     "output_type": "stream",
     "text": [
      "WARNING:tensorflow:5 out of the last 9 calls to <function Model.make_predict_function.<locals>.predict_function at 0x000002427C335CA0> triggered tf.function retracing. Tracing is expensive and the excessive number of tracings could be due to (1) creating @tf.function repeatedly in a loop, (2) passing tensors with different shapes, (3) passing Python objects instead of tensors. For (1), please define your @tf.function outside of the loop. For (2), @tf.function has experimental_relax_shapes=True option that relaxes argument shapes that can avoid unnecessary retracing. For (3), please refer to https://www.tensorflow.org/guide/function#controlling_retracing and https://www.tensorflow.org/api_docs/python/tf/function for  more details.\n",
      "[[ 6  1]\n",
      " [ 0 33]]\n",
      "              precision    recall  f1-score   support\n",
      "\n",
      "           0       1.00      0.86      0.92         7\n",
      "           1       0.97      1.00      0.99        33\n",
      "\n",
      "    accuracy                           0.97        40\n",
      "   macro avg       0.99      0.93      0.95        40\n",
      "weighted avg       0.98      0.97      0.97        40\n",
      "\n"
     ]
    }
   ],
   "source": [
    "from sklearn.metrics import confusion_matrix, classification_report\n",
    "\n",
    "y_pred = model.predict(X_test)\n",
    "y_pred= np.round_(y_pred)\n",
    "model_accuracy = accuracy_score(y_test, y_pred)\n",
    "print(confusion_matrix(y_test,y_pred))\n",
    "print(classification_report(y_test,y_pred))"
   ]
  },
  {
   "cell_type": "code",
   "execution_count": 179,
   "metadata": {},
   "outputs": [
    {
     "name": "stdout",
     "output_type": "stream",
     "text": [
      "model saved\n"
     ]
    }
   ],
   "source": [
    "model.save(\"soil_moisture_97.h5\")\n",
    "print(\"model saved\")"
   ]
  },
  {
   "cell_type": "code",
   "execution_count": 180,
   "metadata": {},
   "outputs": [
    {
     "data": {
      "text/html": [
       "<div>\n",
       "<style scoped>\n",
       "    .dataframe tbody tr th:only-of-type {\n",
       "        vertical-align: middle;\n",
       "    }\n",
       "\n",
       "    .dataframe tbody tr th {\n",
       "        vertical-align: top;\n",
       "    }\n",
       "\n",
       "    .dataframe thead th {\n",
       "        text-align: right;\n",
       "    }\n",
       "</style>\n",
       "<table border=\"1\" class=\"dataframe\">\n",
       "  <thead>\n",
       "    <tr style=\"text-align: right;\">\n",
       "      <th></th>\n",
       "      <th>crop</th>\n",
       "      <th>moisture</th>\n",
       "      <th>temp</th>\n",
       "      <th>pump</th>\n",
       "    </tr>\n",
       "  </thead>\n",
       "  <tbody>\n",
       "    <tr>\n",
       "      <th>14</th>\n",
       "      <td>cotton</td>\n",
       "      <td>703</td>\n",
       "      <td>45</td>\n",
       "      <td>1</td>\n",
       "    </tr>\n",
       "    <tr>\n",
       "      <th>175</th>\n",
       "      <td>cotton</td>\n",
       "      <td>1010</td>\n",
       "      <td>10</td>\n",
       "      <td>1</td>\n",
       "    </tr>\n",
       "    <tr>\n",
       "      <th>36</th>\n",
       "      <td>cotton</td>\n",
       "      <td>665</td>\n",
       "      <td>32</td>\n",
       "      <td>1</td>\n",
       "    </tr>\n",
       "    <tr>\n",
       "      <th>4</th>\n",
       "      <td>cotton</td>\n",
       "      <td>690</td>\n",
       "      <td>28</td>\n",
       "      <td>1</td>\n",
       "    </tr>\n",
       "    <tr>\n",
       "      <th>182</th>\n",
       "      <td>cotton</td>\n",
       "      <td>878</td>\n",
       "      <td>29</td>\n",
       "      <td>1</td>\n",
       "    </tr>\n",
       "    <tr>\n",
       "      <th>...</th>\n",
       "      <td>...</td>\n",
       "      <td>...</td>\n",
       "      <td>...</td>\n",
       "      <td>...</td>\n",
       "    </tr>\n",
       "    <tr>\n",
       "      <th>190</th>\n",
       "      <td>cotton</td>\n",
       "      <td>1021</td>\n",
       "      <td>22</td>\n",
       "      <td>1</td>\n",
       "    </tr>\n",
       "    <tr>\n",
       "      <th>135</th>\n",
       "      <td>cotton</td>\n",
       "      <td>302</td>\n",
       "      <td>23</td>\n",
       "      <td>0</td>\n",
       "    </tr>\n",
       "    <tr>\n",
       "      <th>61</th>\n",
       "      <td>cotton</td>\n",
       "      <td>729</td>\n",
       "      <td>41</td>\n",
       "      <td>1</td>\n",
       "    </tr>\n",
       "    <tr>\n",
       "      <th>138</th>\n",
       "      <td>cotton</td>\n",
       "      <td>4</td>\n",
       "      <td>42</td>\n",
       "      <td>0</td>\n",
       "    </tr>\n",
       "    <tr>\n",
       "      <th>140</th>\n",
       "      <td>cotton</td>\n",
       "      <td>36</td>\n",
       "      <td>16</td>\n",
       "      <td>0</td>\n",
       "    </tr>\n",
       "  </tbody>\n",
       "</table>\n",
       "<p>200 rows × 4 columns</p>\n",
       "</div>"
      ],
      "text/plain": [
       "       crop  moisture  temp  pump\n",
       "14   cotton       703    45     1\n",
       "175  cotton      1010    10     1\n",
       "36   cotton       665    32     1\n",
       "4    cotton       690    28     1\n",
       "182  cotton       878    29     1\n",
       "..      ...       ...   ...   ...\n",
       "190  cotton      1021    22     1\n",
       "135  cotton       302    23     0\n",
       "61   cotton       729    41     1\n",
       "138  cotton         4    42     0\n",
       "140  cotton        36    16     0\n",
       "\n",
       "[200 rows x 4 columns]"
      ]
     },
     "execution_count": 180,
     "metadata": {},
     "output_type": "execute_result"
    }
   ],
   "source": [
    "df"
   ]
  },
  {
   "cell_type": "code",
   "execution_count": null,
   "metadata": {},
   "outputs": [],
   "source": []
  }
 ],
 "metadata": {
  "kernelspec": {
   "display_name": "Python 3",
   "language": "python",
   "name": "python3"
  },
  "language_info": {
   "codemirror_mode": {
    "name": "ipython",
    "version": 3
   },
   "file_extension": ".py",
   "mimetype": "text/x-python",
   "name": "python",
   "nbconvert_exporter": "python",
   "pygments_lexer": "ipython3",
   "version": "3.8.3"
  }
 },
 "nbformat": 4,
 "nbformat_minor": 5
}
